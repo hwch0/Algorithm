{
 "cells": [
  {
   "cell_type": "markdown",
   "id": "e5d7f7db",
   "metadata": {},
   "source": [
    "## 알고리즘 문제\n",
    "\n",
    "- 링크: https://docs.google.com/spreadsheets/d/1ySoV3S56bGNMHDdYs9txB8Njk-I5wkGmX7rRkMAOnjA/edit#gid=546184874\n",
    "\n",
    "<hr>"
   ]
  },
  {
   "cell_type": "markdown",
   "id": "ad8fefea",
   "metadata": {},
   "source": [
    "### 문자열 다루기 기본\n",
    "\n",
    "문제 설명: <br>\n",
    "문자열 s의 길이가 4 혹은 6이고, 숫자로만 구성돼있는지 확인해주는 함수, solution을 완성하세요. 예를 들어 s가 \"a234\"이면 False를 리턴하고 \"1234\"라면 True를 리턴하면 됩니다.\n",
    "\n",
    "제한 사항: <br>\n",
    "- s는 길이 1 이상, 길이 8 이하인 문자열입니다."
   ]
  },
  {
   "cell_type": "code",
   "execution_count": 4,
   "id": "c7e22178",
   "metadata": {},
   "outputs": [
    {
     "data": {
      "text/plain": [
       "False"
      ]
     },
     "execution_count": 4,
     "metadata": {},
     "output_type": "execute_result"
    }
   ],
   "source": [
    "def solution(s):\n",
    "    return s.isdigit() and (len(s)== 4 or len(s)==6)\n",
    "\n",
    "solution(\"12346666\")"
   ]
  },
  {
   "cell_type": "markdown",
   "id": "ee3c3285",
   "metadata": {},
   "source": [
    "### 정수 내림차순으로 배치하기\n",
    "\n",
    "문제 설명: </br>\n",
    "함수 solution은 정수 n을 매개변수로 입력받습니다. n의 각 자릿수를 큰것부터 작은 순으로 정렬한 새로운 정수를 리턴해주세요. 예를들어 n이 118372면 873211을 리턴하면 됩니다.\n",
    "\n",
    "제한 조건: <br>\n",
    "- n은 1이상 8000000000 이하인 자연수입니다."
   ]
  },
  {
   "cell_type": "code",
   "execution_count": 7,
   "id": "7692bbc2",
   "metadata": {},
   "outputs": [],
   "source": [
    "def solution(n):\n",
    "    li = [i for i in str(n)]\n",
    "    li.sort(reverse = True)\n",
    "    return int(''.join(li))"
   ]
  },
  {
   "cell_type": "code",
   "execution_count": 8,
   "id": "dc5b277f",
   "metadata": {},
   "outputs": [
    {
     "data": {
      "text/plain": [
       "873211"
      ]
     },
     "execution_count": 8,
     "metadata": {},
     "output_type": "execute_result"
    }
   ],
   "source": [
    "solution(118372)"
   ]
  },
  {
   "cell_type": "markdown",
   "id": "de914378",
   "metadata": {},
   "source": [
    "### 자연수 뒤집어 배열로 만들기\n",
    "\n",
    "문제 설명: <br>\n",
    "자연수 n을 뒤집어 각 자리 숫자를 원소로 가지는 배열 형태로 리턴해주세요. 예를들어 n이 12345이면 [5,4,3,2,1]을 리턴합니다.\n",
    "\n",
    "제한 조건: <br>\n",
    "- n은 10,000,000,000이하인 자연수입니다."
   ]
  },
  {
   "cell_type": "code",
   "execution_count": 13,
   "id": "e089aa0f",
   "metadata": {},
   "outputs": [
    {
     "data": {
      "text/plain": [
       "[4, 3, 2, 1]"
      ]
     },
     "execution_count": 13,
     "metadata": {},
     "output_type": "execute_result"
    }
   ],
   "source": [
    "def solution(n):    \n",
    "    \n",
    "    return [int(i) for i in str(n)[::-1]]\n",
    "\n",
    "solution(1234)"
   ]
  },
  {
   "cell_type": "markdown",
   "id": "4618636b",
   "metadata": {},
   "source": [
    "### 핸드폰 번호 가리기\n",
    "\n",
    "문제 설명: <br>\n",
    "프로그래머스 모바일은 개인정보 보호를 위해 고지서를 보낼 때 고객들의 전화번호의 일부를 가립니다.\n",
    "전화번호가 문자열 phone_number로 주어졌을 때, 전화번호의 뒷 4자리를 제외한 나머지 숫자를 전부 *으로 가린 문자열을 리턴하는 함수, solution을 완성해주세요.\n",
    "\n",
    "제한 조건: <br>\n",
    "- phone_number는 길이 4 이상, 20이하인 문자열입니다."
   ]
  },
  {
   "cell_type": "code",
   "execution_count": 14,
   "id": "983fe88f",
   "metadata": {},
   "outputs": [],
   "source": [
    "def solution(phone_number):\n",
    "    string = list(phone_number)\n",
    "\n",
    "    string = ['*' for i in string[:len(string)-4]]+string[-4:]\n",
    "    answer = ''.join(string)\n",
    "    return answer"
   ]
  },
  {
   "cell_type": "markdown",
   "id": "d3979660",
   "metadata": {},
   "source": [
    "### K번째수\n",
    "\n",
    "문제 설명: <br>\n",
    "배열 array의 i번째 숫자부터 j번째 숫자까지 자르고 정렬했을 때, k번째에 있는 수를 구하려 합니다.\n",
    "\n",
    "예를 들어 array가 [1, 5, 2, 6, 3, 7, 4], i = 2, j = 5, k = 3이라면\n",
    "\n",
    "array의 2번째부터 5번째까지 자르면 [5, 2, 6, 3]입니다.\n",
    "1에서 나온 배열을 정렬하면 [2, 3, 5, 6]입니다.\n",
    "2에서 나온 배열의 3번째 숫자는 5입니다.\n",
    "배열 array, [i, j, k]를 원소로 가진 2차원 배열 commands가 매개변수로 주어질 때, commands의 모든 원소에 대해 앞서 설명한 연산을 적용했을 때 나온 결과를 배열에 담아 return 하도록 solution 함수를 작성해주세요.\n",
    "\n",
    "제한사항: <br>\n",
    "- array의 길이는 1 이상 100 이하입니다.\n",
    "- array의 각 원소는 1 이상 100 이하입니다.\n",
    "- commands의 길이는 1 이상 50 이하입니다.\n",
    "- commands의 각 원소는 길이가 3입니다.\n",
    "\n",
    "array\t\n",
    "[1, 5, 2, 6, 3, 7, 4]\t\n",
    "commands\t\n",
    "[[2, 5, 3], [4, 4, 1], [1, 7, 3]]\t\n",
    "return\n",
    "[5, 6, 3]"
   ]
  },
  {
   "cell_type": "code",
   "execution_count": 94,
   "id": "be249065",
   "metadata": {},
   "outputs": [],
   "source": [
    "### 첫번째 풀이\n",
    "\n",
    "import numpy as np\n",
    "\n",
    "def solution(array, commands):\n",
    "    answer = []\n",
    "    for command in commands:\n",
    "        a, b, c = command\n",
    "        if a==b:\n",
    "            li = array[a-1:b]\n",
    "        elif a!=b :\n",
    "            li = array[a-1:b]\n",
    "        li.sort()\n",
    "        answer.append(li[c-1])\n",
    "    \n",
    "    return answer"
   ]
  },
  {
   "cell_type": "code",
   "execution_count": 100,
   "id": "64482f6b",
   "metadata": {},
   "outputs": [
    {
     "data": {
      "text/plain": [
       "[5, 6, 3]"
      ]
     },
     "execution_count": 100,
     "metadata": {},
     "output_type": "execute_result"
    }
   ],
   "source": [
    "array = np.array([1, 5, 2, 6, 3, 7, 4])\n",
    "commands = np.array([[2, 5, 3], [4, 4, 1], [1, 7, 3]])\n",
    "\n",
    "solution(array, commands)\n",
    "\n",
    "# 프로그래머스 입력창과 결과가 다르게 나옴 (프로그래머스에서는 [5,6,3]으로 출력 > 정답)"
   ]
  },
  {
   "cell_type": "code",
   "execution_count": 101,
   "id": "14b8ba23",
   "metadata": {},
   "outputs": [],
   "source": [
    "### 두번째 풀이\n",
    "\n",
    "import numpy as np\n",
    "\n",
    "def solution(array, commands):\n",
    "    answer = []\n",
    "    for c in commands:\n",
    "        li = sorted(array[c[0]-1: c[1]])\n",
    "        answer.append(li[c[2]-1])\n",
    "    \n",
    "    return answer"
   ]
  },
  {
   "cell_type": "code",
   "execution_count": 103,
   "id": "bf5e5038",
   "metadata": {},
   "outputs": [
    {
     "data": {
      "text/plain": [
       "[5, 6, 3]"
      ]
     },
     "execution_count": 103,
     "metadata": {},
     "output_type": "execute_result"
    }
   ],
   "source": [
    "array = np.array([1, 5, 2, 6, 3, 7, 4])\n",
    "commands = np.array([[2, 5, 3], [4, 4, 1], [1, 7, 3]])\n",
    "\n",
    "solution(array, commands)"
   ]
  },
  {
   "cell_type": "markdown",
   "id": "cb07a875",
   "metadata": {},
   "source": [
    "### 하샤드의 수\n",
    "\n",
    "문제 설명: <br>\n",
    "양의 정수 x가 하샤드 수이려면 x의 자릿수의 합으로 x가 나누어져야 합니다. 예를 들어 18의 자릿수 합은 1+8=9이고, 18은 9로 나누어 떨어지므로 18은 하샤드 수입니다. 자연수 x를 입력받아 x가 하샤드 수인지 아닌지 검사하는 함수, solution을 완성해주세요.\n",
    "\n",
    "제한 조건: <br>\n",
    "- x는 1 이상, 10000 이하인 정수입니다."
   ]
  },
  {
   "cell_type": "code",
   "execution_count": 163,
   "id": "05e60c4a",
   "metadata": {},
   "outputs": [],
   "source": [
    "### 첫번째 풀이\n",
    "\n",
    "def solution(x):\n",
    "    \n",
    "    a = 0\n",
    "    for i in str(x):\n",
    "        a += int(i)\n",
    "               \n",
    "    return x%a == 0"
   ]
  },
  {
   "cell_type": "code",
   "execution_count": 172,
   "id": "54b1569d",
   "metadata": {},
   "outputs": [],
   "source": [
    "# 두번째 풀이\n",
    "\n",
    "def solution(a):\n",
    "    return a % sum(map(lambda x: int(x), str(a))) == 0"
   ]
  },
  {
   "cell_type": "markdown",
   "id": "1a483c45",
   "metadata": {},
   "source": [
    "### 나누어 떨어지는 숫자 배열\n",
    "\n",
    "문제 설명: <br>\n",
    "array의 각 element 중 divisor로 나누어 떨어지는 값을 오름차순으로 정렬한 배열을 반환하는 함수, solution을 작성해주세요.\n",
    "divisor로 나누어 떨어지는 element가 하나도 없다면 배열에 -1을 담아 반환하세요.\n",
    "\n",
    "제한사항: <br>\n",
    "- arr은 자연수를 담은 배열입니다.\n",
    "- 정수 i, j에 대해 i ≠ j 이면 arr[i] ≠ arr[j] 입니다.\n",
    "- divisor는 자연수입니다.\n",
    "- array는 길이 1 이상인 배열입니다.\n",
    "\n",
    "[5, 9, 7, 10]\t5"
   ]
  },
  {
   "cell_type": "code",
   "execution_count": 183,
   "id": "04758bda",
   "metadata": {},
   "outputs": [],
   "source": [
    "def solution(arr, divisor):\n",
    "    li = [a for a in arr if (a%divisor) ==0]\n",
    "    if li == []:\n",
    "        return [-1]\n",
    "\n",
    "    else : \n",
    "        return sorted(li)"
   ]
  },
  {
   "cell_type": "code",
   "execution_count": 184,
   "id": "e42d0451",
   "metadata": {},
   "outputs": [],
   "source": [
    "arr = [5,9,7,10]\n",
    "divisor = 5"
   ]
  },
  {
   "cell_type": "code",
   "execution_count": 185,
   "id": "8562c560",
   "metadata": {},
   "outputs": [
    {
     "data": {
      "text/plain": [
       "[5, 10]"
      ]
     },
     "execution_count": 185,
     "metadata": {},
     "output_type": "execute_result"
    }
   ],
   "source": [
    "solution(arr, divisor)"
   ]
  },
  {
   "cell_type": "markdown",
   "id": "bfeb0819",
   "metadata": {},
   "source": [
    "### 모의고사\n",
    "\n",
    "문제 설명: <br>\n",
    "수포자는 수학을 포기한 사람의 준말입니다. 수포자 삼인방은 모의고사에 수학 문제를 전부 찍으려 합니다. 수포자는 1번 문제부터 마지막 문제까지 다음과 같이 찍습니다.\n",
    "\n",
    "1번 수포자가 찍는 방식: 1, 2, 3, 4, 5, 1, 2, 3, 4, 5, ...\n",
    "2번 수포자가 찍는 방식: 2, 1, 2, 3, 2, 4, 2, 5, 2, 1, 2, 3, 2, 4, 2, 5, ...\n",
    "3번 수포자가 찍는 방식: 3, 3, 1, 1, 2, 2, 4, 4, 5, 5, 3, 3, 1, 1, 2, 2, 4, 4, 5, 5, ...\n",
    "\n",
    "1번 문제부터 마지막 문제까지의 정답이 순서대로 들은 배열 answers가 주어졌을 때, 가장 많은 문제를 맞힌 사람이 누구인지 배열에 담아 return 하도록 solution 함수를 작성해주세요.\n",
    "\n",
    "제한 조건: <br>\n",
    "- 시험은 최대 10,000 문제로 구성되어있습니다.\n",
    "- 문제의 정답은 1, 2, 3, 4, 5중 하나입니다.\n",
    "- 가장 높은 점수를 받은 사람이 여럿일 경우, return하는 값을 오름차순 정렬해주세요."
   ]
  },
  {
   "cell_type": "code",
   "execution_count": 62,
   "id": "63c13bb1",
   "metadata": {},
   "outputs": [],
   "source": [
    "def solution(answers):\n",
    "    students =[[1, 2, 3, 4, 5], [2, 1, 2, 3, 2, 4, 2, 5], [3, 3, 1, 1, 2, 2, 4, 4, 5, 5]]\n",
    "    answer_list = []\n",
    "    \n",
    "    for s in students:\n",
    "        if len(answers) > len(s):\n",
    "            num = len(answers)//len(s)\n",
    "            add = len(answers) - len(s*num)\n",
    "            new_s = (s*num) + s[:add]\n",
    "            li = [new_s[i]==answers[i] for i in range(len(answers))]\n",
    "            \n",
    "        else :\n",
    "            li = [s[i]==answers[i] for i in range(len(answers))]\n",
    "        \n",
    "        answer_list.append(sum(li))\n",
    "    score = [i for i in enumerate(answer_list)]\n",
    "    win = [i[0]+1 for i in score if i[1] == max(answer_list)]\n",
    "        \n",
    "    return win"
   ]
  },
  {
   "cell_type": "code",
   "execution_count": 64,
   "id": "3cd0b88c",
   "metadata": {},
   "outputs": [
    {
     "name": "stdout",
     "output_type": "stream",
     "text": [
      "[False, False, False, False, False, False, True, False]\n",
      "[True, True, True, True, True, True, True, True]\n",
      "[False, False, False, False, True, False, False, False]\n",
      "[1, 8, 1]\n",
      "[(0, 1), (1, 8), (2, 1)]\n",
      "(2, 1)\n",
      "[2]\n"
     ]
    }
   ],
   "source": [
    "solution([2, 1, 2, 3, 2, 4, 2, 5])"
   ]
  },
  {
   "cell_type": "markdown",
   "id": "8b78731f",
   "metadata": {},
   "source": [
    "### 완주하지 못한 선수\n",
    "<br>\n",
    "문제 설명: <br>\n",
    "수많은 마라톤 선수들이 마라톤에 참여하였습니다. 단 한 명의 선수를 제외하고는 모든 선수가 마라톤을 완주하였습니다.\n",
    "\n",
    "마라톤에 참여한 선수들의 이름이 담긴 배열 participant와 완주한 선수들의 이름이 담긴 배열 completion이 주어질 때, 완주하지 못한 선수의 이름을 return 하도록 solution 함수를 작성해주세요.\n",
    "\n",
    "제한사항:\n",
    "- 마라톤 경기에 참여한 선수의 수는 1명 이상 100,000명 이하입니다.\n",
    "- completion의 길이는 participant의 길이보다 1 작습니다.\n",
    "- 참가자의 이름은 1개 이상 20개 이하의 알파벳 소문자로 이루어져 있습니다.\n",
    "- 참가자 중에는 동명이인이 있을 수 있습니다."
   ]
  },
  {
   "cell_type": "code",
   "execution_count": 73,
   "id": "97f3171d",
   "metadata": {},
   "outputs": [
    {
     "data": {
      "text/plain": [
       "['stanko', 'mislav', 'ana']"
      ]
     },
     "execution_count": 73,
     "metadata": {},
     "output_type": "execute_result"
    }
   ],
   "source": [
    "a = [\"mislav\", \"stanko\", \"mislav\", \"ana\"]\n",
    "a.remove('mislav')\n",
    "a"
   ]
  },
  {
   "cell_type": "code",
   "execution_count": 74,
   "id": "cd81aec5",
   "metadata": {},
   "outputs": [
    {
     "data": {
      "text/plain": [
       "['stanko', 'ana']"
      ]
     },
     "execution_count": 74,
     "metadata": {},
     "output_type": "execute_result"
    }
   ],
   "source": [
    "a.remove('mislav')\n",
    "a"
   ]
  },
  {
   "cell_type": "code",
   "execution_count": 158,
   "id": "63f90477",
   "metadata": {},
   "outputs": [],
   "source": [
    "def solution(participant, completion):\n",
    "    for c in completion:\n",
    "        participant.remove(c)\n",
    "    return participant\n",
    "        "
   ]
  },
  {
   "cell_type": "code",
   "execution_count": 202,
   "id": "e0fa1ccb",
   "metadata": {},
   "outputs": [],
   "source": [
    "a = [\"marina\", \"josipa\", \"nikola\", \"vinko\", \"filipa\"]\n",
    "target = [\"josipa\", \"filipa\", \"marina\", 'nikola']\n",
    "c = set(a) - set(target)"
   ]
  },
  {
   "cell_type": "code",
   "execution_count": 206,
   "id": "63328c79",
   "metadata": {},
   "outputs": [
    {
     "data": {
      "text/plain": [
       "{'vinko'}"
      ]
     },
     "execution_count": 206,
     "metadata": {},
     "output_type": "execute_result"
    }
   ],
   "source": [
    "set(a) - set(target)"
   ]
  },
  {
   "cell_type": "code",
   "execution_count": 181,
   "id": "f0cbba55",
   "metadata": {},
   "outputs": [],
   "source": [
    "def solution(participant, completion):\n",
    "    \n",
    "    "
   ]
  },
  {
   "cell_type": "code",
   "execution_count": 188,
   "id": "12bb8ce6",
   "metadata": {},
   "outputs": [
    {
     "data": {
      "text/plain": [
       "'nikola'"
      ]
     },
     "execution_count": 188,
     "metadata": {},
     "output_type": "execute_result"
    }
   ],
   "source": []
  },
  {
   "cell_type": "code",
   "execution_count": 194,
   "id": "e9b8c68b",
   "metadata": {},
   "outputs": [
    {
     "ename": "TypeError",
     "evalue": "unsupported operand type(s) for -: 'list' and 'list'",
     "output_type": "error",
     "traceback": [
      "\u001b[1;31m---------------------------------------------------------------------------\u001b[0m",
      "\u001b[1;31mTypeError\u001b[0m                                 Traceback (most recent call last)",
      "Input \u001b[1;32mIn [194]\u001b[0m, in \u001b[0;36m<cell line: 1>\u001b[1;34m()\u001b[0m\n\u001b[1;32m----> 1\u001b[0m c\u001b[38;5;241m=\u001b[39m \u001b[38;5;28mset\u001b[39m(\u001b[43ma\u001b[49m\u001b[43m \u001b[49m\u001b[38;5;241;43m-\u001b[39;49m\u001b[43m \u001b[49m\u001b[43mb\u001b[49m)\n\u001b[0;32m      2\u001b[0m c\n",
      "\u001b[1;31mTypeError\u001b[0m: unsupported operand type(s) for -: 'list' and 'list'"
     ]
    }
   ],
   "source": [
    "c= set(a - b)\n",
    "c"
   ]
  },
  {
   "cell_type": "code",
   "execution_count": 190,
   "id": "00183b0b",
   "metadata": {},
   "outputs": [
    {
     "data": {
      "text/plain": [
       "['marina', 'marina']"
      ]
     },
     "execution_count": 190,
     "metadata": {},
     "output_type": "execute_result"
    }
   ],
   "source": [
    "c = [i for i in a if a.count(i)>1]\n",
    "c"
   ]
  },
  {
   "cell_type": "code",
   "execution_count": null,
   "id": "ba9a6ee4",
   "metadata": {},
   "outputs": [],
   "source": []
  }
 ],
 "metadata": {
  "kernelspec": {
   "display_name": "Python 3 (ipykernel)",
   "language": "python",
   "name": "python3"
  },
  "language_info": {
   "codemirror_mode": {
    "name": "ipython",
    "version": 3
   },
   "file_extension": ".py",
   "mimetype": "text/x-python",
   "name": "python",
   "nbconvert_exporter": "python",
   "pygments_lexer": "ipython3",
   "version": "3.9.12"
  }
 },
 "nbformat": 4,
 "nbformat_minor": 5
}
