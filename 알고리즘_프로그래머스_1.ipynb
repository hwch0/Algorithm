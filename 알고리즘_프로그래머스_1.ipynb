{
 "cells": [
  {
   "cell_type": "markdown",
   "id": "519cc46e",
   "metadata": {},
   "source": [
    "## 알고리즘 문제 \n",
    "\n",
    "링크 = https://docs.google.com/spreadsheets/d/1jKQnesi1EjM-MJBmpzL-BbOLP46_Mz7j4zSfkM-_TBI/edit#gid=546184874"
   ]
  },
  {
   "cell_type": "markdown",
   "id": "0d4badcb",
   "metadata": {},
   "source": [
    "<hr>"
   ]
  },
  {
   "cell_type": "markdown",
   "id": "f72db826",
   "metadata": {},
   "source": [
    "### 두 정수 사이의 합\n",
    "문제 설명: </br>\n",
    "두 정수 a, b가 주어졌을 때 a와 b 사이에 속한 모든 정수의 합을 리턴하는 함수, solution을 완성하세요.\n",
    "예를 들어 a = 3, b = 5인 경우, 3 + 4 + 5 = 12이므로 12를 리턴합니다.\n",
    "\n",
    "제한 조건: </br>\n",
    "- a와 b가 같은 경우는 둘 중 아무 수나 리턴하세요.\n",
    "- a와 b는 -10,000,000 이상 10,000,000 이하인 정수입니다.\n",
    "- a와 b의 대소관계는 정해져있지 않습니다."
   ]
  },
  {
   "cell_type": "code",
   "execution_count": 146,
   "id": "8990aa8f",
   "metadata": {},
   "outputs": [
    {
     "data": {
      "text/plain": [
       "7"
      ]
     },
     "execution_count": 146,
     "metadata": {},
     "output_type": "execute_result"
    }
   ],
   "source": [
    "def solution(a, b):\n",
    "    if a < b:\n",
    "        answer = sum(list(range(a,b+1)))\n",
    "    elif a > b:\n",
    "        answer = sum(list(range(b, a+1)))\n",
    "    else :\n",
    "        answer = a\n",
    "    return answer\n",
    "\n",
    "solution(3,4)"
   ]
  },
  {
   "cell_type": "markdown",
   "id": "ad581300",
   "metadata": {},
   "source": [
    "<hr>"
   ]
  },
  {
   "cell_type": "markdown",
   "id": "4d9d8afc",
   "metadata": {},
   "source": [
    "### 수박수박수박수박수박수?\n",
    "\n",
    "문제 설명: </br>\n",
    "길이가 n이고, \"수박수박수박수....\"와 같은 패턴을 유지하는 문자열을 리턴하는 함수, solution을 완성하세요. 예를들어 n이 4이면 \"수박수박\"을 리턴하고 3이라면 \"수박수\"를 리턴하면 됩니다.\n",
    "\n",
    "제한 조건: </br>\n",
    "- n은 길이 10,000이하인 자연수입니다."
   ]
  },
  {
   "cell_type": "code",
   "execution_count": 149,
   "id": "9738ad94",
   "metadata": {},
   "outputs": [
    {
     "data": {
      "text/plain": [
       "'수박수박'"
      ]
     },
     "execution_count": 149,
     "metadata": {},
     "output_type": "execute_result"
    }
   ],
   "source": [
    "def solution(n):\n",
    "    result = '수박'*int((n/2))+'수'*int((n%2))\n",
    "\n",
    "    return result\n",
    "solution(4)"
   ]
  },
  {
   "cell_type": "markdown",
   "id": "441abce7",
   "metadata": {},
   "source": [
    "<hr>"
   ]
  },
  {
   "cell_type": "markdown",
   "id": "bdf00d64",
   "metadata": {},
   "source": [
    "### 서울에서 김서방 찾기\n",
    "\n",
    "문제 설명: <br>\n",
    "String형 배열 seoul의 element중 \"Kim\"의 위치 x를 찾아, \"김서방은 x에 있다\"는 String을 반환하는 함수, solution을 완성하세요. seoul에 \"Kim\"은 오직 한 번만 나타나며 잘못된 값이 입력되는 경우는 없습니다.\n",
    "\n",
    "제한 사항: <br>\n",
    "- seoul은 길이 1 이상, 1000 이하인 배열입니다.\n",
    "- seoul의 원소는 길이 1 이상, 20 이하인 문자열입니다.\n",
    "- \"Kim\"은 반드시 seoul 안에 포함되어 있습니다."
   ]
  },
  {
   "cell_type": "code",
   "execution_count": 148,
   "id": "aa9d7b15",
   "metadata": {},
   "outputs": [
    {
     "data": {
      "text/plain": [
       "'김서방은 1에 있다'"
      ]
     },
     "execution_count": 148,
     "metadata": {},
     "output_type": "execute_result"
    }
   ],
   "source": [
    "def solution(seoul):\n",
    "    ind = str(seoul.index('Kim'))\n",
    "    return \"김서방은 \"+ind+\"에 있다\"\n",
    "\n",
    "solution([\"Jane\", \"Kim\"])"
   ]
  },
  {
   "cell_type": "markdown",
   "id": "4d87f804",
   "metadata": {},
   "source": [
    "<hr>"
   ]
  },
  {
   "cell_type": "markdown",
   "id": "339b9ce1",
   "metadata": {},
   "source": [
    "### 약수의 합\n",
    "\n",
    "문제 설명: </br>\n",
    "정수 n을 입력받아 n의 약수를 모두 더한 값을 리턴하는 함수, solution을 완성해주세요.\n",
    "\n",
    "제한 사항: </br>\n",
    "- n은 0 이상 3000이하인 정수입니다.\n"
   ]
  },
  {
   "cell_type": "code",
   "execution_count": 152,
   "id": "126be176",
   "metadata": {},
   "outputs": [
    {
     "data": {
      "text/plain": [
       "28"
      ]
     },
     "execution_count": 152,
     "metadata": {},
     "output_type": "execute_result"
    }
   ],
   "source": [
    "def solution(n):\n",
    "    li = []\n",
    "    for i in range(1,n+1):\n",
    "        if n%i == 0:\n",
    "            li.append(i)\n",
    "    return sum(li)\n",
    "solution(12)"
   ]
  },
  {
   "cell_type": "markdown",
   "id": "7fc6905a",
   "metadata": {},
   "source": [
    "<hr>"
   ]
  },
  {
   "cell_type": "markdown",
   "id": "c36be310",
   "metadata": {},
   "source": [
    "### 문자열 내 p와 y의 개수\n",
    "\n",
    "문제 설명: </br>\n",
    "대문자와 소문자가 섞여있는 문자열 s가 주어집니다. s에 'p'의 개수와 'y'의 개수를 비교해 같으면 True, 다르면 False를 return 하는 solution를 완성하세요. 'p', 'y' 모두 하나도 없는 경우는 항상 True를 리턴합니다. 단, 개수를 비교할 때 대문자와 소문자는 구별하지 않습니다.\n",
    "\n",
    "예를 들어 s가 \"pPoooyY\"면 true를 return하고 \"Pyy\"라면 false를 return합니다.\n",
    "\n",
    "제한사항: </br>\n",
    "- 문자열 s의 길이 : 50 이하의 자연수\n",
    "- 문자열 s는 알파벳으로만 이루어져 있습니다."
   ]
  },
  {
   "cell_type": "code",
   "execution_count": 154,
   "id": "687a4d94",
   "metadata": {},
   "outputs": [
    {
     "data": {
      "text/plain": [
       "True"
      ]
     },
     "execution_count": 154,
     "metadata": {},
     "output_type": "execute_result"
    }
   ],
   "source": [
    "def solution(s):\n",
    "    if s.lower().count('p') != s.lower().count('y') :\n",
    "        return False\n",
    "    else : return True\n",
    "\n",
    "solution(\"pPoooyY\")"
   ]
  },
  {
   "cell_type": "markdown",
   "id": "ad8d8337",
   "metadata": {},
   "source": [
    "<hr>"
   ]
  },
  {
   "cell_type": "markdown",
   "id": "4793c755",
   "metadata": {},
   "source": [
    "### 같은 숫자는 싫어\n",
    "\n",
    "문제 설명:\n",
    "배열 arr가 주어집니다. 배열 arr의 각 원소는 숫자 0부터 9까지로 이루어져 있습니다. 이때, 배열 arr에서 연속적으로 나타나는 숫자는 하나만 남기고 전부 제거하려고 합니다. 단, 제거된 후 남은 수들을 반환할 때는 배열 arr의 원소들의 순서를 유지해야 합니다. 예를 들면,\n",
    "\n",
    "- arr = [1, 1, 3, 3, 0, 1, 1] 이면 [1, 3, 0, 1] 을 return 합니다.\n",
    "- arr = [4, 4, 4, 3, 3] 이면 [4, 3] 을 return 합니다.\n",
    "배열 arr에서 연속적으로 나타나는 숫자는 제거하고 남은 수들을 return 하는 solution 함수를 완성해 주세요.\n",
    "\n",
    "제한사항:\n",
    "배열 arr의 크기 : 1,000,000 이하의 자연수\n",
    "배열 arr의 원소의 크기 : 0보다 크거나 같고 9보다 작거나 같은 정수\n"
   ]
  },
  {
   "cell_type": "code",
   "execution_count": 82,
   "id": "33c73a35",
   "metadata": {},
   "outputs": [],
   "source": [
    "import time\n",
    "from datetime import timedelta"
   ]
  },
  {
   "cell_type": "code",
   "execution_count": 83,
   "id": "665747b5",
   "metadata": {},
   "outputs": [
    {
     "name": "stdout",
     "output_type": "stream",
     "text": [
      "Time elapsed:  0.0\n",
      "Time elapsed:  0:00:00\n"
     ]
    }
   ],
   "source": [
    "# append 사용\n",
    "\n",
    "start = time.process_time()\n",
    "\n",
    "def solution(arr):\n",
    "    answer = arr[0:1]\n",
    "    for i in arr:\n",
    "        if i != answer[-1]:\n",
    "            answer.append(i)\n",
    "    return answer\n",
    "\n",
    "end = time.process_time()\n",
    "\n",
    "print(\"Time elapsed: \", end - start)  # seconds\n",
    "print(\"Time elapsed: \", timedelta(seconds=end-start))"
   ]
  },
  {
   "cell_type": "code",
   "execution_count": 84,
   "id": "95e6f65b",
   "metadata": {},
   "outputs": [
    {
     "name": "stdout",
     "output_type": "stream",
     "text": [
      "Time elapsed:  0.0\n",
      "Time elapsed:  0:00:00\n"
     ]
    }
   ],
   "source": [
    "# i.pop(i) 사용\n",
    "\n",
    "start = time.process_time()\n",
    "\n",
    "def solution(arr): # [1,1,3,3,0,1]\n",
    "    for i in range(len(arr)-1,0,-1): # 0,1,2,3,4 , 0,1,2,3\n",
    "        if arr[i] == arr[i-1]: # 0=1\n",
    "            arr.pop(i) # [1,3,3,0,1]\n",
    "    return arr\n",
    "\n",
    "end = time.process_time()\n",
    "\n",
    "print(\"Time elapsed: \", end - start)  # seconds\n",
    "print(\"Time elapsed: \", timedelta(seconds=end-start))"
   ]
  },
  {
   "cell_type": "code",
   "execution_count": 3,
   "id": "9bbb2727",
   "metadata": {},
   "outputs": [
    {
     "data": {
      "text/plain": [
       "[1, 3, 0, 1]"
      ]
     },
     "execution_count": 3,
     "metadata": {},
     "output_type": "execute_result"
    }
   ],
   "source": [
    "solution([1,1,3,3,0,1,1])"
   ]
  },
  {
   "cell_type": "markdown",
   "id": "60b1cf35",
   "metadata": {},
   "source": [
    "<hr>"
   ]
  },
  {
   "cell_type": "markdown",
   "id": "9520130d",
   "metadata": {},
   "source": [
    "### 가운데 글자 가져오기\n",
    "제 설명\n",
    "단어 s의 가운데 글자를 반환하는 함수, solution을 만들어 보세요. 단어의 길이가 짝수라면 가운데 두글자를 반환하면 됩니다.\n",
    "\n",
    "재한사항\n",
    "s는 길이가 1 이상, 100이하인 스트링입니다."
   ]
  },
  {
   "cell_type": "code",
   "execution_count": 10,
   "id": "58f2a3a9",
   "metadata": {},
   "outputs": [],
   "source": [
    "def solution(s):\n",
    "    if len(s)%2 != 0:\n",
    "        answer = s[int(len(s)/2)]\n",
    "    else :\n",
    "        answer = s[int(len(s)/2)-1 : int(len(s)/2)+1]\n",
    "    return answer"
   ]
  },
  {
   "cell_type": "code",
   "execution_count": 14,
   "id": "d2bea5ab",
   "metadata": {},
   "outputs": [
    {
     "data": {
      "text/plain": [
       "'c'"
      ]
     },
     "execution_count": 14,
     "metadata": {},
     "output_type": "execute_result"
    }
   ],
   "source": [
    "solution('abcde')"
   ]
  },
  {
   "cell_type": "markdown",
   "id": "cb825776",
   "metadata": {},
   "source": [
    "<hr>"
   ]
  },
  {
   "cell_type": "markdown",
   "id": "182ee6fd",
   "metadata": {},
   "source": [
    "### x만큼 간격이 있는 n개의 숫자\n",
    "문제 설명:\n",
    "함수 solution은 정수 x와 자연수 n을 입력 받아, x부터 시작해 x씩 증가하는 숫자를 n개 지니는 리스트를 리턴해야 합니다. 다음 제한 조건을 보고, 조건을 만족하는 함수, solution을 완성해주세요.\n",
    "\n",
    "제한 조건:\n",
    "- x는 -10000000 이상, 10000000 이하인 정수입니다.\n",
    "- n은 1000 이하인 자연수입니다."
   ]
  },
  {
   "cell_type": "code",
   "execution_count": 21,
   "id": "9538d702",
   "metadata": {},
   "outputs": [],
   "source": [
    "def solution(x, n):\n",
    "    answer = [x*(i+1) for i in range (n)]\n",
    "    \n",
    "    return answer"
   ]
  },
  {
   "cell_type": "code",
   "execution_count": 22,
   "id": "cc68fef8",
   "metadata": {},
   "outputs": [
    {
     "data": {
      "text/plain": [
       "[-4, -8]"
      ]
     },
     "execution_count": 22,
     "metadata": {},
     "output_type": "execute_result"
    }
   ],
   "source": [
    "solution(-4, 2)"
   ]
  },
  {
   "cell_type": "markdown",
   "id": "d454cbf8",
   "metadata": {},
   "source": [
    "<hr>"
   ]
  },
  {
   "cell_type": "markdown",
   "id": "866b5242",
   "metadata": {},
   "source": [
    "### 직사각형 별찍기\n",
    "\n",
    "문제 설명:\n",
    "이 문제에는 표준 입력으로 두 개의 정수 n과 m이 주어집니다.\n",
    "별(*) 문자를 이용해 가로의 길이가 n, 세로의 길이가 m인 직사각형 형태를 출력해보세요.\n",
    "\n",
    "제한 조건:\n",
    "- n과 m은 각각 1000 이하인 자연수입니다."
   ]
  },
  {
   "cell_type": "code",
   "execution_count": 23,
   "id": "a7124b67",
   "metadata": {},
   "outputs": [
    {
     "name": "stdout",
     "output_type": "stream",
     "text": [
      "5 3\n",
      "*****\n",
      "*****\n",
      "*****\n"
     ]
    }
   ],
   "source": [
    "# 첫번째 풀이\n",
    "a, b = map(int, input().strip().split(' '))\n",
    "\n",
    "for i in range(b):\n",
    "    print(a* '*')"
   ]
  },
  {
   "cell_type": "code",
   "execution_count": 28,
   "id": "dd8e5b8d",
   "metadata": {},
   "outputs": [
    {
     "name": "stdout",
     "output_type": "stream",
     "text": [
      "7 5\n",
      "*******\n",
      "*******\n",
      "*******\n",
      "*******\n",
      "*******\n"
     ]
    }
   ],
   "source": [
    "# 두번째 풀이\n",
    "a, b = [int(_) for _ in input().split(' ')]\n",
    "\n",
    "for i in range(b):\n",
    "    print('*'*a)"
   ]
  },
  {
   "cell_type": "markdown",
   "id": "3cdfc6c0",
   "metadata": {},
   "source": [
    "<hr>"
   ]
  },
  {
   "cell_type": "markdown",
   "id": "5769a1bc",
   "metadata": {},
   "source": [
    "### 평균 구하기\n",
    "\n",
    "문제 설명:\n",
    "정수를 담고 있는 배열 arr의 평균값을 return하는 함수, solution을 완성해보세요.\n",
    "\n",
    "제한사항:\n",
    "- arr은 길이 1 이상, 100 이하인 배열입니다.\n",
    "- arr의 원소는 -10,000 이상 10,000 이하인 정수입니다."
   ]
  },
  {
   "cell_type": "code",
   "execution_count": 36,
   "id": "8fd80320",
   "metadata": {},
   "outputs": [
    {
     "data": {
      "text/plain": [
       "5.0"
      ]
     },
     "execution_count": 36,
     "metadata": {},
     "output_type": "execute_result"
    }
   ],
   "source": [
    "# 첫번째 풀이 \n",
    "def solution(arr):\n",
    "    \n",
    "    return sum([a for a in arr]) / len(arr)\n",
    "\n",
    "solution([5,5])"
   ]
  },
  {
   "cell_type": "code",
   "execution_count": 37,
   "id": "af89a0d6",
   "metadata": {},
   "outputs": [
    {
     "data": {
      "text/plain": [
       "5.0"
      ]
     },
     "execution_count": 37,
     "metadata": {},
     "output_type": "execute_result"
    }
   ],
   "source": [
    "# 두번째 풀이\n",
    "\n",
    "def solution(arr):\n",
    "    return sum(arr) / len(arr)\n",
    "    \n",
    "solution([5,5])"
   ]
  },
  {
   "cell_type": "markdown",
   "id": "6274ff2b",
   "metadata": {},
   "source": [
    "<hr>"
   ]
  },
  {
   "cell_type": "markdown",
   "id": "60263afd",
   "metadata": {},
   "source": [
    "### 행렬의 덧셈\n",
    "\n",
    "문제 설명\n",
    "행렬의 덧셈은 행과 열의 크기가 같은 두 행렬의 같은 행, 같은 열의 값을 서로 더한 결과가 됩니다. 2개의 행렬 arr1과 arr2를 입력받아, 행렬 덧셈의 결과를 반환하는 함수, solution을 완성해주세요.\n",
    "\n",
    "제한 조건\n",
    "- 행렬 arr1, arr2의 행과 열의 길이는 500을 넘지 않습니다."
   ]
  },
  {
   "cell_type": "code",
   "execution_count": null,
   "id": "993588ad",
   "metadata": {},
   "outputs": [],
   "source": [
    "arr1 = [[1,2],[2,3]]\n",
    "arr2 = [[3,4],[5,6]]"
   ]
  },
  {
   "cell_type": "code",
   "execution_count": 53,
   "id": "b497bf41",
   "metadata": {},
   "outputs": [
    {
     "data": {
      "text/plain": [
       "[[4, 6], [7, 9]]"
      ]
     },
     "execution_count": 53,
     "metadata": {},
     "output_type": "execute_result"
    }
   ],
   "source": [
    "# 첫번째 풀이 \n",
    "\n",
    "def solution(arr1, arr2):\n",
    "    answer = [[] for x in range(len(arr1))]\n",
    "              \n",
    "    for i in range (len(arr1)):\n",
    "        for j in range (len(arr1[i])):\n",
    "            answer[i].append(arr1[i][j]+arr2[i][j])      \n",
    "    \n",
    "    return answer\n",
    "\n",
    "\n",
    "solution(arr1,arr2)"
   ]
  },
  {
   "cell_type": "code",
   "execution_count": 54,
   "id": "c287b7e7",
   "metadata": {},
   "outputs": [
    {
     "data": {
      "text/plain": [
       "[[4, 6], [7, 9]]"
      ]
     },
     "execution_count": 54,
     "metadata": {},
     "output_type": "execute_result"
    }
   ],
   "source": [
    "# 두번째 \n",
    "\n",
    "# list comprehension 구문의 if else문\n",
    "# [ 조건 만족 시 출력값 if 조건 else 조건 불만족 시 출력 값 for i in data] \n",
    "\n",
    "def solution(arr1, arr2):\n",
    "    return [[arr1[i][j] + arr2[i][j] for j in range(len(arr1[i]))] for i in range(len(arr1))]\n",
    "\n",
    "\n",
    "solution(arr1, arr2)"
   ]
  },
  {
   "cell_type": "code",
   "execution_count": 60,
   "id": "78a637ea",
   "metadata": {},
   "outputs": [
    {
     "data": {
      "text/plain": [
       "[[4, 6], [7, 9]]"
      ]
     },
     "execution_count": 60,
     "metadata": {},
     "output_type": "execute_result"
    }
   ],
   "source": [
    "# 세번째 다른 사람 풀이 (numpy array 사용)\n",
    "\n",
    "import numpy as np\n",
    "def sumMatrix(A,B):\n",
    "    A=np.array(A)\n",
    "    B=np.array(B)\n",
    "    answer=A+B\n",
    "    return answer.tolist()\n",
    "\n",
    "sumMatrix(arr1, arr2)"
   ]
  },
  {
   "cell_type": "code",
   "execution_count": 59,
   "id": "c82019b1",
   "metadata": {},
   "outputs": [
    {
     "data": {
      "text/plain": [
       "[[4, 6], [7, 9]]"
      ]
     },
     "execution_count": 59,
     "metadata": {},
     "output_type": "execute_result"
    }
   ],
   "source": [
    "a = np.array(arr1)\n",
    "b = np.array(arr2)\n",
    "a, b\n",
    "c = a+b\n",
    "c.tolist()"
   ]
  },
  {
   "cell_type": "markdown",
   "id": "4261cade",
   "metadata": {},
   "source": [
    "<hr>"
   ]
  },
  {
   "cell_type": "markdown",
   "id": "d719215b",
   "metadata": {},
   "source": [
    "### 짝수와 홀수\n",
    "\n",
    "문제 설명:\n",
    "정수 num이 짝수일 경우 \"Even\"을 반환하고 홀수인 경우 \"Odd\"를 반환하는 함수, solution을 완성해주세요.\n",
    "\n",
    "제한 조건\n",
    "- num은 int 범위의 정수입니다.\n",
    "- 0은 짝수입니다."
   ]
  },
  {
   "cell_type": "code",
   "execution_count": 69,
   "id": "bb71e643",
   "metadata": {},
   "outputs": [
    {
     "data": {
      "text/plain": [
       "'Even'"
      ]
     },
     "execution_count": 69,
     "metadata": {},
     "output_type": "execute_result"
    }
   ],
   "source": [
    "def solution(num):\n",
    "    if num%2 == 0:\n",
    "        return 'Even'\n",
    "    return 'Odd'\n",
    "solution(4)"
   ]
  },
  {
   "cell_type": "markdown",
   "id": "beaf1948",
   "metadata": {},
   "source": [
    "<hr>"
   ]
  },
  {
   "cell_type": "markdown",
   "id": "ac5eaeff",
   "metadata": {},
   "source": [
    "### 자릿수 더하기\n",
    "\n",
    "문제 설명:\n",
    "자연수 N이 주어지면, N의 각 자릿수의 합을 구해서 return 하는 solution 함수를 만들어 주세요.\n",
    "예를들어 N = 123이면 1 + 2 + 3 = 6을 return 하면 됩니다.\n",
    "\n",
    "제한사항:\n",
    "- N의 범위 : 100,000,000 이하의 자연수\n"
   ]
  },
  {
   "cell_type": "code",
   "execution_count": 88,
   "id": "a82c37f5",
   "metadata": {},
   "outputs": [
    {
     "data": {
      "text/plain": [
       "6"
      ]
     },
     "execution_count": 88,
     "metadata": {},
     "output_type": "execute_result"
    }
   ],
   "source": [
    "def solution(n):\n",
    "    li = [int(i) for i in str(n)]\n",
    "    return sum(li)\n",
    "\n",
    "solution('123')"
   ]
  },
  {
   "cell_type": "markdown",
   "id": "d0bcb3b7",
   "metadata": {},
   "source": [
    "<hr>"
   ]
  },
  {
   "cell_type": "markdown",
   "id": "a3f53ad8",
   "metadata": {},
   "source": [
    "### 최대공약수와 최소공배수\n",
    "\n",
    "문제 설명:\n",
    "두 수를 입력받아 두 수의 최대공약수와 최소공배수를 반환하는 함수, solution을 완성해 보세요. 배열의 맨 앞에 최대공약수, 그다음 최소공배수를 넣어 반환하면 됩니다. 예를 들어 두 수 3, 12의 최대공약수는 3, 최소공배수는 12이므로 solution(3, 12)는 [3, 12]를 반환해야 합니다.\n",
    "\n",
    "제한 사항:\n",
    "- 두 수는 1이상 1000000이하의 자연수입니다.\n"
   ]
  },
  {
   "cell_type": "code",
   "execution_count": 128,
   "id": "a1a04310",
   "metadata": {},
   "outputs": [],
   "source": [
    "def solution (n,m):\n",
    "    a = [i for i in range(1,max(n,m)+1) if (n%i==0) and (m%i==0)]\n",
    "    b = [i for i in range(max(n,m),(n*m)+1) if i%n==0 and i%m ==0]\n",
    "    return [max(a), min(b)]"
   ]
  },
  {
   "cell_type": "code",
   "execution_count": 129,
   "id": "e524c366",
   "metadata": {},
   "outputs": [
    {
     "data": {
      "text/plain": [
       "[3, 12]"
      ]
     },
     "execution_count": 129,
     "metadata": {},
     "output_type": "execute_result"
    }
   ],
   "source": [
    "solution(3, 12)"
   ]
  },
  {
   "cell_type": "code",
   "execution_count": 126,
   "id": "8d2caec1",
   "metadata": {},
   "outputs": [
    {
     "data": {
      "text/plain": [
       "6"
      ]
     },
     "execution_count": 126,
     "metadata": {},
     "output_type": "execute_result"
    }
   ],
   "source": [
    "n = 6\n",
    "m = 24\n",
    "a = [i for i in range(1,max(n,m)+1) if (n%i==0) and (m%i==0)]\n",
    "max(a)"
   ]
  },
  {
   "cell_type": "code",
   "execution_count": 127,
   "id": "e213470a",
   "metadata": {},
   "outputs": [
    {
     "data": {
      "text/plain": [
       "24"
      ]
     },
     "execution_count": 127,
     "metadata": {},
     "output_type": "execute_result"
    }
   ],
   "source": [
    "b = [i for i in range(max(n,m),(n*m)+1) if i%n==0 and i%m ==0]\n",
    "min(b)"
   ]
  },
  {
   "cell_type": "markdown",
   "id": "64d1ff68",
   "metadata": {},
   "source": [
    "<hr>"
   ]
  },
  {
   "cell_type": "markdown",
   "id": "619c317e",
   "metadata": {},
   "source": [
    "### 정수 제곱근 판별\n",
    "\n",
    "문제 설명:\n",
    "임의의 양의 정수 n에 대해, n이 어떤 양의 정수 x의 제곱인지 아닌지 판단하려 합니다.\n",
    "n이 양의 정수 x의 제곱이라면 x+1의 제곱을 리턴하고, n이 양의 정수 x의 제곱이 아니라면 -1을 리턴하는 함수를 완성하세요.\n",
    "\n",
    "제한 사항:\n",
    "- n은 1이상, 50000000000000 이하인 양의 정수입니다."
   ]
  },
  {
   "cell_type": "code",
   "execution_count": 134,
   "id": "c833dc4b",
   "metadata": {},
   "outputs": [
    {
     "data": {
      "text/plain": [
       "[-1, -1, -1]"
      ]
     },
     "execution_count": 134,
     "metadata": {},
     "output_type": "execute_result"
    }
   ],
   "source": [
    "n = 3\n",
    "[i for i in range(1,n+1) if i**2==n]\n",
    "[i if i**2==n else  for i in range(1,n+1)]"
   ]
  },
  {
   "cell_type": "code",
   "execution_count": 139,
   "id": "4067eba8",
   "metadata": {},
   "outputs": [],
   "source": [
    "def solution(n):\n",
    "    for x in range(1,n+1):\n",
    "        if x**2 == n:\n",
    "            return (x+1)**2\n",
    "    return -1"
   ]
  },
  {
   "cell_type": "code",
   "execution_count": 140,
   "id": "7b08c9f3",
   "metadata": {},
   "outputs": [
    {
     "data": {
      "text/plain": [
       "-1"
      ]
     },
     "execution_count": 140,
     "metadata": {},
     "output_type": "execute_result"
    }
   ],
   "source": [
    "n = 3\n",
    "\n",
    "solution(n)"
   ]
  },
  {
   "cell_type": "code",
   "execution_count": null,
   "id": "e2827730",
   "metadata": {},
   "outputs": [],
   "source": []
  },
  {
   "cell_type": "code",
   "execution_count": null,
   "id": "412525a3",
   "metadata": {},
   "outputs": [],
   "source": []
  },
  {
   "cell_type": "code",
   "execution_count": null,
   "id": "c0cde248",
   "metadata": {},
   "outputs": [],
   "source": []
  },
  {
   "cell_type": "code",
   "execution_count": null,
   "id": "adb397d4",
   "metadata": {},
   "outputs": [],
   "source": []
  },
  {
   "cell_type": "code",
   "execution_count": null,
   "id": "7be2ecf7",
   "metadata": {},
   "outputs": [],
   "source": []
  },
  {
   "cell_type": "code",
   "execution_count": null,
   "id": "e8851cf4",
   "metadata": {},
   "outputs": [],
   "source": []
  }
 ],
 "metadata": {
  "kernelspec": {
   "display_name": "Python 3 (ipykernel)",
   "language": "python",
   "name": "python3"
  },
  "language_info": {
   "codemirror_mode": {
    "name": "ipython",
    "version": 3
   },
   "file_extension": ".py",
   "mimetype": "text/x-python",
   "name": "python",
   "nbconvert_exporter": "python",
   "pygments_lexer": "ipython3",
   "version": "3.9.12"
  }
 },
 "nbformat": 4,
 "nbformat_minor": 5
}
